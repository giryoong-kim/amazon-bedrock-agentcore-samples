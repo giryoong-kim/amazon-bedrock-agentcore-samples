{
 "cells": [
  {
   "cell_type": "markdown",
   "metadata": {},
   "source": [
    "## Lab 2: Personalize our agent by adding memory\n",
    "\n",
    "### Overview\n",
    "\n",
    "In Lab 1, you built a Customer Support Agent that worked well for a single user in a local session. However, real-world customer support needs to scale beyond a single user running in a local environment.\n",
    "\n",
    "When we run an **Agent in Production**, we'll need:\n",
    "- **Multi-User Support**: Handle thousands of customers simultaneously\n",
    "- **Persistent Storage**: Save conversations beyond session lifecycle\n",
    "- **Long-Term Learning**: Extract customer preferences and behavioral patterns\n",
    "- **Cross-Session Continuity**: Remember customers across different interactions\n",
    "\n",
    "**Workshop Progress:**\n",
    "- **Lab 1 (Done)**: Create Agent Prototype - Build a functional customer support agent\n",
    "- **Lab 2 (Current)**: Enhance with Memory - Add conversation context and personalization\n",
    "- **Lab 3**: Scale with Gateway & Identity - Share tools across agents securely\n",
    "- **Lab 4**: Deploy to Production - Use AgentCore Runtime with observability\n",
    "- **Lab 5**: Build User Interface - Create a customer-facing application\n",
    "\n",
    "\n",
    "In this lab, you'll add the missing persistence and learning layer that transforms your Goldfish-Agent (forgets the conversation in seconds) into an smart personalized Assistant.\n",
    "\n",
    "Memory is a critical component of intelligence. While Large Language Models (LLMs) have impressive capabilities, they lack persistent memory across conversations. [Amazon Bedrock AgentCore Memory](https://docs.aws.amazon.com/bedrock-agentcore/latest/devguide/memory-getting-started.html) addresses this limitation by providing a managed service that enables AI agents to maintain context over time, remember important facts, and deliver consistent, personalized experiences.\n",
    "\n",
    "AgentCore Memory operates on two levels:\n",
    "- **Short-Term Memory**: Immediate conversation context and session-based information that provides continuity within a single interaction or closely related sessions.\n",
    "- **Long-Term Memory**: Persistent information extracted and stored across multiple conversations, including facts, preferences, and summaries that enable personalized experiences over time.\n",
    "\n",
    "### Architecture for Lab 2\n",
    "<div style=\"text-align:left\">\n",
    "    <img src=\"images/architecture_lab2_memory.png\" width=\"75%\"/>\n",
    "</div>\n",
    "\n",
    "*Multi-user agent with persistent short term and long term memory capabilities. *\n",
    "\n",
    "### Prerequisites\n",
    "\n",
    "* **AWS Account** with appropriate permissions\n",
    "* **Python 3.10+** installed locally\n",
    "* **AWS CLI configured** with credentials\n",
    "* **Anthropic Claude 3.7** enabled on [Amazon Bedrock](https://docs.aws.amazon.com/bedrock/latest/userguide/model-access.html)\n",
    "* **Strands Agents** and other libraries installed in the next cells\n",
    "* These resources are created for you within an AWS workshop account\n",
    "    - AWS Lambda function \n",
    "    - AWS Lambda Execution IAM Role\n",
    "    - AgentCore Gateway IAM Role\n",
    "    - DynamoDB tables used by the AWS Lambda function. \n",
    "    - Cognito User Pool and User Pool Client\n"
   ]
  },
  {
   "cell_type": "markdown",
   "metadata": {},
   "source": [
    "### Step 1: Import Libraries\n",
    "\n",
    "Let's import the libraries for AgentCore Memory. For it, we will use the [Amazon Bedrock AgentCore Python SDK](https://github.com/aws/bedrock-agentcore-sdk-python), a lightweight wrapper that helps you working with AgentCore capabilities."
   ]
  },
  {
   "cell_type": "code",
   "execution_count": 4,
   "metadata": {
    "execution": {
     "iopub.execute_input": "2025-10-16T23:34:03.942116Z",
     "iopub.status.busy": "2025-10-16T23:34:03.941855Z",
     "iopub.status.idle": "2025-10-16T23:34:04.035593Z",
     "shell.execute_reply": "2025-10-16T23:34:04.035087Z",
     "shell.execute_reply.started": "2025-10-16T23:34:03.942095Z"
    }
   },
   "outputs": [],
   "source": [
    "import logging\n",
    "from boto3.session import Session\n",
    "\n",
    "from bedrock_agentcore.memory import MemoryClient\n",
    "from bedrock_agentcore.memory.constants import StrategyType\n",
    "\n",
    "from lab_helpers.utils import get_ssm_parameter, put_ssm_parameter\n",
    "\n",
    "boto_session = Session()\n",
    "REGION = boto_session.region_name\n",
    "\n",
    "logger = logging.getLogger(__name__)"
   ]
  },
  {
   "cell_type": "markdown",
   "metadata": {},
   "source": [
    "### Step 2: Create Bedrock AgentCore Memory resources\n",
    "\n",
    "Amazon Bedrock AgentCore Memory is a fully managed service that provides persistent memory capabilities for AI agents.\n",
    "\n",
    "#### AgentCore Memory Concepts:\n",
    "\n",
    "1. **Short-Term Memory (STM)**: Immediately stores conversation context within the session\n",
    "2. **Long-Term Memory (LTM)**: Asynchronously processes STM to extract meaningful patterns, preferences and facts\n",
    "3. **Memory Strategies**: Different approaches for extracting and organizing information:\n",
    "   - **USER_PREFERENCE**: Learns customer preferences, behaviors, and patterns\n",
    "   - **SEMANTIC**: Stores factual information using vector embeddings for similarity search\n",
    "4. **Namespaces**: Logical grouping of memories by customer and context type. We'll create these two namespaces:\n",
    "- `support/customer/{actorId}/preferences`: Customer preferences and behavioral patterns\n",
    "- `support/customer/{actorId}/semantic`: Factual information and conversation history\n",
    "\n",
    "This structure enables multi-tenant memory where each customer's information is isolated and easily retrievable.\n",
    "\n",
    "#### Memory Creation Process:\n",
    "\n",
    "Creating memory resources involves provisioning the underlying infrastructure (vector databases, processing pipelines, etc.). This typically takes 2-3 minutes as AWS sets up the managed services behind the scenes."
   ]
  },
  {
   "cell_type": "code",
   "execution_count": 5,
   "metadata": {
    "execution": {
     "iopub.execute_input": "2025-10-16T23:34:09.278118Z",
     "iopub.status.busy": "2025-10-16T23:34:09.277864Z",
     "iopub.status.idle": "2025-10-16T23:34:09.303601Z",
     "shell.execute_reply": "2025-10-16T23:34:09.303136Z",
     "shell.execute_reply.started": "2025-10-16T23:34:09.278099Z"
    }
   },
   "outputs": [],
   "source": [
    "memory_client = MemoryClient(region_name=REGION)\n",
    "memory_name = \"CustomerSupportMemory\"\n",
    "\n",
    "def create_or_get_memory_resource():\n",
    "    try:\n",
    "        memory_id = get_ssm_parameter(\"/app/customersupport/agentcore/memory_id\")\n",
    "        memory_client.gmcp_client.get_memory(memoryId=memory_id)\n",
    "        return memory_id\n",
    "    except Exception:\n",
    "        try:\n",
    "            strategies = [\n",
    "                {\n",
    "                    StrategyType.USER_PREFERENCE.value: {\n",
    "                        \"name\": \"CustomerPreferences\",\n",
    "                        \"description\": \"Captures customer preferences and behavior\",\n",
    "                        \"namespaces\": [\"support/customer/{actorId}/preferences\"],\n",
    "                    }\n",
    "                },\n",
    "                {\n",
    "                    StrategyType.SEMANTIC.value: {\n",
    "                        \"name\": \"CustomerSupportSemantic\",\n",
    "                        \"description\": \"Stores facts from conversations\",\n",
    "                        \"namespaces\": [\"support/customer/{actorId}/semantic\"],\n",
    "                    }\n",
    "                },\n",
    "            ]\n",
    "            print(\"Creating AgentCore Memory resources. This will take 2-3 minutes...\")\n",
    "            print(\"While we wait, let's understand what's happening behind the scenes:\")\n",
    "            print(\"• Setting up managed vector databases for semantic search\")\n",
    "            print(\"• Configuring memory extraction pipelines\")\n",
    "            print(\"• Provisioning secure, multi-tenant storage\")\n",
    "            print(\"• Establishing namespace isolation for customer data\")\n",
    "            # *** AGENTCORE MEMORY USAGE *** - Create memory resource with semantic strategy\n",
    "            response = memory_client.create_memory_and_wait(\n",
    "                name=memory_name,\n",
    "                description=\"Customer support agent memory\",\n",
    "                strategies=strategies,\n",
    "                event_expiry_days=90,  # Memories expire after 90 days\n",
    "            )\n",
    "            memory_id = response[\"id\"]\n",
    "            try:\n",
    "                put_ssm_parameter(\"/app/customersupport/agentcore/memory_id\", memory_id)\n",
    "            except Exception as e:\n",
    "                raise e\n",
    "            return memory_id\n",
    "        except Exception as e:\n",
    "            print(f\"Failed to create memory resource: {e}\")\n",
    "            return None"
   ]
  },
  {
   "cell_type": "code",
   "execution_count": 6,
   "metadata": {
    "execution": {
     "iopub.execute_input": "2025-10-16T23:34:11.740009Z",
     "iopub.status.busy": "2025-10-16T23:34:11.739742Z",
     "iopub.status.idle": "2025-10-16T23:34:12.071734Z",
     "shell.execute_reply": "2025-10-16T23:34:12.071147Z",
     "shell.execute_reply.started": "2025-10-16T23:34:11.739991Z"
    }
   },
   "outputs": [
    {
     "name": "stdout",
     "output_type": "stream",
     "text": [
      "✅ AgentCore Memory created successfully!\n",
      "Memory ID: CustomerSupportMemory-9EMouj6WSd\n"
     ]
    }
   ],
   "source": [
    "memory_id = create_or_get_memory_resource()\n",
    "if memory_id:\n",
    "    print(\"✅ AgentCore Memory created successfully!\")\n",
    "    print(f\"Memory ID: {memory_id}\")\n",
    "else:\n",
    "    print(\"Memory resource not created. Try Again !\")"
   ]
  },
  {
   "cell_type": "markdown",
   "metadata": {},
   "source": [
    "## Step 3: Seed previous customer interactions\n",
    "\n",
    "**Why are we seeding memory?**\n",
    "\n",
    "In production, agents accumulate memory naturally through customer interactions. However, for this lab, we're seeding historical conversations to demonstrate how Long-Term Memory (LTM) works without waiting for real conversations.\n",
    "\n",
    "**How memory processing works:**\n",
    "1. `create_event` stores interactions in **Short-Term Memory** (STM) instantly\n",
    "2. STM is asynchronously processed by **Long-Term Memory** strategies\n",
    "3. LTM extracts patterns, preferences, and facts for future retrieval\n",
    "\n",
    "Let's seed some customer history to see this in action:"
   ]
  },
  {
   "cell_type": "code",
   "execution_count": 7,
   "metadata": {
    "execution": {
     "iopub.execute_input": "2025-10-16T23:35:29.520504Z",
     "iopub.status.busy": "2025-10-16T23:35:29.520236Z",
     "iopub.status.idle": "2025-10-16T23:35:29.843441Z",
     "shell.execute_reply": "2025-10-16T23:35:29.842814Z",
     "shell.execute_reply.started": "2025-10-16T23:35:29.520483Z"
    }
   },
   "outputs": [
    {
     "name": "stdout",
     "output_type": "stream",
     "text": [
      "Memory Arn: arn:aws:bedrock-agentcore:us-west-2:354338917833:memory/CustomerSupportMemory-9EMouj6WSd\n",
      "Memory ID: CustomerSupportMemory-9EMouj6WSd\n",
      "--------------------------------------------------------------------\n",
      "✅ Seeded customer history successfully\n",
      "📝 Interactions saved to Short-Term Memory\n",
      "⏳ Long-Term Memory processing will begin automatically...\n"
     ]
    }
   ],
   "source": [
    "import random\n",
    "import string\n",
    "\n",
    "# List existing memory resources\n",
    "for memory in memory_client.list_memories():\n",
    "    print(f\"Memory Arn: {memory.get('arn')}\")\n",
    "    print(f\"Memory ID: {memory.get('id')}\")\n",
    "    print(\"--------------------------------------------------------------------\")\n",
    "\n",
    "# Seed with previous customer interactions\n",
    "CUSTOMER_ID = \"Customer-\" + ''.join(random.choices(string.ascii_uppercase + string.digits, k=5))\n",
    "\n",
    "previous_interactions = [\n",
    "    (\"I'm having issues with my MacBook Pro overheating during video editing.\", \"USER\"),\n",
    "    (\n",
    "        \"I can help with that thermal issue. For video editing workloads, let's check your Activity Monitor and adjust performance settings. Your MacBook Pro order #MB-78432 is still under warranty.\",\n",
    "        \"ASSISTANT\",\n",
    "    ),\n",
    "    (\n",
    "        \"What's the return policy on gaming headphones? I need low latency for competitive FPS games\",\n",
    "        \"USER\",\n",
    "    ),\n",
    "    (\n",
    "        \"For gaming headphones, you have 30 days to return. Since you're into competitive FPS, I'd recommend checking the audio latency specs - most gaming models have <40ms latency.\",\n",
    "        \"ASSISTANT\",\n",
    "    ),\n",
    "    (\n",
    "        \"I need a laptop under $1200 for programming. Prefer 16GB RAM minimum and good Linux compatibility. I like ThinkPad models.\",\n",
    "        \"USER\",\n",
    "    ),\n",
    "    (\n",
    "        \"Perfect! For development work, I'd suggest looking at our ThinkPad E series or Dell XPS models. Both have excellent Linux support and 16GB RAM options within your budget.\",\n",
    "        \"ASSISTANT\",\n",
    "    ),\n",
    "]\n",
    "\n",
    "# Save previous interactions\n",
    "if memory_id:\n",
    "    try:\n",
    "        memory_client.create_event(\n",
    "            memory_id=memory_id,\n",
    "            actor_id=CUSTOMER_ID,\n",
    "            session_id=\"previous_session\",\n",
    "            messages=previous_interactions,\n",
    "        )\n",
    "        print(\"✅ Seeded customer history successfully\")\n",
    "        print(\"📝 Interactions saved to Short-Term Memory\")\n",
    "        print(\"⏳ Long-Term Memory processing will begin automatically...\")\n",
    "    except Exception as e:\n",
    "        print(f\"⚠️ Error seeding history: {e}\")"
   ]
  },
  {
   "cell_type": "markdown",
   "metadata": {},
   "source": [
    "### Understanding Memory Processing\n",
    "\n",
    "After creating events with `create_event`, AgentCore Memory processes the data in two stages:\n",
    "\n",
    "1. **Immediate**: Messages stored in Short-Term Memory (STM)\n",
    "2. **Asynchronous**: STM processed into Long-Term Memory (LTM) strategies\n",
    "\n",
    "LTM processing typically takes 20-30 seconds as the system:\n",
    "- Analyzes conversation patterns\n",
    "- Extracts customer preferences and behaviors\n",
    "- Creates semantic embeddings for factual information\n",
    "- Organizes memories by namespace for efficient retrieval\n",
    "\n",
    "Let's check if our Long-Term Memory processing is complete by retrieving customer preferences:"
   ]
  },
  {
   "cell_type": "code",
   "execution_count": 8,
   "metadata": {
    "execution": {
     "iopub.execute_input": "2025-10-16T23:35:49.040507Z",
     "iopub.status.busy": "2025-10-16T23:35:49.040239Z",
     "iopub.status.idle": "2025-10-16T23:36:19.861555Z",
     "shell.execute_reply": "2025-10-16T23:36:19.860998Z",
     "shell.execute_reply.started": "2025-10-16T23:35:49.040487Z"
    }
   },
   "outputs": [
    {
     "name": "stdout",
     "output_type": "stream",
     "text": [
      "🔍 Checking for processed Long-Term Memories...\n",
      "⏳ Still processing... waiting 10 more seconds (attempt 1/6)\n",
      "⏳ Still processing... waiting 10 more seconds (attempt 2/6)\n",
      "⏳ Still processing... waiting 10 more seconds (attempt 3/6)\n",
      "✅ Found 3 preference memories after 30 seconds!\n",
      "🎯 AgentCore Memory automatically extracted these customer preferences from our seeded conversations:\n",
      "================================================================================\n",
      "  1. {\"context\":\"The user explicitly mentioned wanting a laptop with good Linux compatibility.\",\"preference\":\"Prefers laptops with good Linux compatibility\",\"categories\":[\"technology\",\"computers\",\"operating systems\"]}\n",
      "  2. {\"context\":\"The user mentioned having issues with MacBook Pro overheating during video editing tasks.\",\"preference\":\"Uses MacBook Pro for video editing\",\"categories\":[\"technology\",\"computers\",\"content creation\"]}\n",
      "  3. {\"context\":\"The user explicitly stated a budget constraint for a laptop purchase.\",\"preference\":\"Wants a laptop under $1200\",\"categories\":[\"technology\",\"computers\",\"budget\"]}\n"
     ]
    }
   ],
   "source": [
    "import time\n",
    "\n",
    "# Wait for Long-Term Memory processing to complete\n",
    "print(\"🔍 Checking for processed Long-Term Memories...\")\n",
    "retries = 0\n",
    "max_retries = 6  # 1 minute wait\n",
    "\n",
    "while retries < max_retries:\n",
    "    memories = memory_client.retrieve_memories(\n",
    "        memory_id=memory_id,\n",
    "        namespace=f\"support/customer/{CUSTOMER_ID}/preferences\",\n",
    "        query=\"can you summarize the support issue\",\n",
    "    )\n",
    "\n",
    "    if memories:\n",
    "        print(\n",
    "            f\"✅ Found {len(memories)} preference memories after {retries * 10} seconds!\"\n",
    "        )\n",
    "        break\n",
    "\n",
    "    retries += 1\n",
    "    if retries < max_retries:\n",
    "        print(\n",
    "            f\"⏳ Still processing... waiting 10 more seconds (attempt {retries}/{max_retries})\"\n",
    "        )\n",
    "        time.sleep(10)\n",
    "    else:\n",
    "        print(\n",
    "            \"⚠️ Memory processing is taking longer than expected. This can happen with overloading..\"\n",
    "        )\n",
    "        break\n",
    "\n",
    "print(\n",
    "    \"🎯 AgentCore Memory automatically extracted these customer preferences from our seeded conversations:\"\n",
    ")\n",
    "print(\"=\" * 80)\n",
    "\n",
    "for i, memory in enumerate(memories, 1):\n",
    "    if isinstance(memory, dict):\n",
    "        content = memory.get(\"content\", {})\n",
    "        if isinstance(content, dict):\n",
    "            text = content.get(\"text\", \"\")\n",
    "            print(f\"  {i}. {text}\")"
   ]
  },
  {
   "cell_type": "markdown",
   "metadata": {},
   "source": [
    "### Exploring Semantic Memory\n",
    "\n",
    "Semantic memory stores factual information from conversations using vector embeddings. This enables similarity-based retrieval of relevant facts and context."
   ]
  },
  {
   "cell_type": "code",
   "execution_count": 9,
   "metadata": {
    "execution": {
     "iopub.execute_input": "2025-10-16T23:36:19.862475Z",
     "iopub.status.busy": "2025-10-16T23:36:19.862279Z",
     "iopub.status.idle": "2025-10-16T23:36:20.039708Z",
     "shell.execute_reply": "2025-10-16T23:36:20.039192Z",
     "shell.execute_reply.started": "2025-10-16T23:36:19.862458Z"
    }
   },
   "outputs": [
    {
     "name": "stdout",
     "output_type": "stream",
     "text": [
      "🧠 AgentCore Memory identified these factual details from conversations:\n",
      "================================================================================\n",
      "  1. The user prefers laptops with good Linux compatibility.\n",
      "  2. The user needs a laptop under $1200 for programming.\n",
      "  3. The user needs gaming headphones with low latency for competitive FPS games.\n"
     ]
    }
   ],
   "source": [
    "import time\n",
    "\n",
    "# Retrieve semantic memories (factual information)\n",
    "while True:\n",
    "    semantic_memories = memory_client.retrieve_memories(\n",
    "        memory_id=memory_id,\n",
    "        namespace=f\"support/customer/{CUSTOMER_ID}/semantic\",\n",
    "        query=\"information on the technical support issue\",\n",
    "    )\n",
    "    print(\"🧠 AgentCore Memory identified these factual details from conversations:\")\n",
    "    print(\"=\" * 80)\n",
    "    if memories:\n",
    "        break\n",
    "    time.sleep(10)\n",
    "for i, memory in enumerate(semantic_memories, 1):\n",
    "    if isinstance(memory, dict):\n",
    "        content = memory.get(\"content\", {})\n",
    "        if isinstance(content, dict):\n",
    "            text = content.get(\"text\", \"\")\n",
    "            print(f\"  {i}. {text}\")"
   ]
  },
  {
   "cell_type": "markdown",
   "metadata": {},
   "source": [
    "## Step 4: Create a Customer Support Agent with memory\n",
    "\n",
    "Next, we will implement the Customer Support Agent just as we did in Lab 1."
   ]
  },
  {
   "cell_type": "code",
   "execution_count": 23,
   "metadata": {
    "execution": {
     "iopub.execute_input": "2025-10-16T23:51:07.273302Z",
     "iopub.status.busy": "2025-10-16T23:51:07.273039Z",
     "iopub.status.idle": "2025-10-16T23:51:08.084645Z",
     "shell.execute_reply": "2025-10-16T23:51:08.084117Z",
     "shell.execute_reply.started": "2025-10-16T23:51:07.273281Z"
    }
   },
   "outputs": [],
   "source": [
    "import uuid\n",
    "import random\n",
    "import string\n",
    "\n",
    "from strands import Agent\n",
    "from strands.models import BedrockModel\n",
    "from bedrock_agentcore.memory.integrations.strands.config import AgentCoreMemoryConfig, RetrievalConfig\n",
    "from bedrock_agentcore.memory.integrations.strands.session_manager import AgentCoreMemorySessionManager\n",
    "\n",
    "from lab_helpers.lab1_strands_agent import (\n",
    "    SYSTEM_PROMPT,\n",
    "    get_return_policy,\n",
    "    web_search,\n",
    "    get_product_info,\n",
    "    get_technical_support,\n",
    "    MODEL_ID,\n",
    ")\n",
    "\n",
    "session_id = \"Session-\" + ''.join(random.choices(string.ascii_uppercase + string.digits, k=5))\n",
    "\n",
    "memory_config = AgentCoreMemoryConfig(\n",
    "        memory_id=memory_id,\n",
    "        session_id=session_id,\n",
    "        session_manager=AgentCoreMemorySessionManager(memory_config, REGION),\n",
    "        actor_id=CUSTOMER_ID,\n",
    "        retrieval_config={\n",
    "            f\"support/customer/{CUSTOMER_ID}/semantic\": RetrievalConfig(top_k=3, relevance_score=0.5),\n",
    "            f\"support/customer/{CUSTOMER_ID}/preferences\": RetrievalConfig(top_k=3, relevance_score=0.5)\n",
    "        }\n",
    "    )\n",
    "\n",
    "# Initialize the Bedrock model (Anthropic Claude 3.7 Sonnet)\n",
    "model = BedrockModel(model_id=MODEL_ID, region_name=REGION)\n",
    "\n",
    "# Create the customer support agent with all 5 tools\n",
    "agent = Agent(\n",
    "    model=model,\n",
    "    session_manager=AgentCoreMemorySessionManager(memory_config, REGION),\n",
    "    tools=[\n",
    "        get_product_info,  # Tool 1: Simple product information lookup\n",
    "        get_return_policy,  # Tool 2: Simple return policy lookup\n",
    "        web_search,\n",
    "        get_technical_support,\n",
    "    ],\n",
    "    system_prompt=SYSTEM_PROMPT,\n",
    ")"
   ]
  },
  {
   "cell_type": "markdown",
   "metadata": {},
   "source": [
    "## Step 5: Test Personalized Agent\n",
    "\n",
    "Let's test our memory-enhanced agent! Watch how it uses the customer's historical preferences to provide personalized recommendations.\n",
    "\n",
    "The agent will automatically:\n",
    "1. Retrieve relevant customer context from memory\n",
    "2. Use that context to personalize the response\n",
    "3. Save this new interaction for future use"
   ]
  },
  {
   "cell_type": "code",
   "execution_count": 24,
   "metadata": {
    "execution": {
     "iopub.execute_input": "2025-10-16T23:51:10.192087Z",
     "iopub.status.busy": "2025-10-16T23:51:10.191823Z",
     "iopub.status.idle": "2025-10-16T23:51:14.658497Z",
     "shell.execute_reply": "2025-10-16T23:51:14.657967Z",
     "shell.execute_reply.started": "2025-10-16T23:51:10.192069Z"
    }
   },
   "outputs": [
    {
     "name": "stdout",
     "output_type": "stream",
     "text": [
      "🎧 Testing headphone recommendation with customer memory...\n",
      "\n",
      "\n",
      "\n",
      "\n",
      "I'd be happy to recommend some headphones for you. To provide the most relevant recommendations, could you let me know what you'll be primarily using them for? For example:\n",
      "- Are you looking for gaming headphones?\n",
      "- Do you need them for casual listening, professional audio work, or exercise?\n",
      "- Do you have any preferences for wired vs wireless, noise cancellation, or budget range?\n",
      "\n",
      "I can provide detailed specifications on various headphone types once I understand your needs better."
     ]
    }
   ],
   "source": [
    "print(\"🎧 Testing headphone recommendation with customer memory...\\n\\n\")\n",
    "response1 = agent(\"Which headphones would you recommend?\")"
   ]
  },
  {
   "cell_type": "code",
   "execution_count": 25,
   "metadata": {
    "execution": {
     "iopub.execute_input": "2025-10-16T23:51:43.519329Z",
     "iopub.status.busy": "2025-10-16T23:51:43.519068Z",
     "iopub.status.idle": "2025-10-16T23:51:48.005237Z",
     "shell.execute_reply": "2025-10-16T23:51:48.004657Z",
     "shell.execute_reply.started": "2025-10-16T23:51:43.519296Z"
    }
   },
   "outputs": [
    {
     "name": "stdout",
     "output_type": "stream",
     "text": [
      "\n",
      "💻 Testing laptop preference recall...\n",
      "\n",
      "\n",
      "\n",
      "\n",
      "Based on your previous interactions, you've indicated that you:\n",
      "\n",
      "1. Prefer ThinkPad laptop models\n",
      "2. Need at least 16GB of RAM in your laptops\n",
      "3. Are looking for a laptop under $1200 for programming purposes\n",
      "\n",
      "Would you like me to provide you with more specific information about ThinkPad models that meet these requirements? Or would you like information about other laptop brands that might fit your needs as well?"
     ]
    }
   ],
   "source": [
    "print(\"\\n💻 Testing laptop preference recall...\\n\\n\")\n",
    "response2 = agent(\"What is my preferred laptop brand and requirements?\")"
   ]
  },
  {
   "cell_type": "markdown",
   "metadata": {},
   "source": [
    "Notice how the Agent remembers:\n",
    "• Your gaming preferences (low latency headphones)\n",
    "• Your laptop preferences (ThinkPad, 16GB RAM, Linux compatibility)\n",
    "• Your budget constraints ($1200 for laptops)\n",
    "• Previous technical issues (MacBook overheating)\n",
    "\n",
    "This is the power of AgentCore Memory - persistent, personalized customer experiences!\n",
    "\n",
    "## Congratulations! 🎉\n",
    "\n",
    "You have successfully completed **Lab 2: Add memory to the Customer Support Agent**!\n",
    "\n",
    "### What You Accomplished:\n",
    "\n",
    "- Created a serverless managed memory with Amazon Bedrock AgentCore Memory\n",
    "- Implemented long-term memory to store User-Preferences and Semantic (Factual) information.\n",
    "\n",
    "\n",
    "##### Next Up [Lab 3 - Scaling with Gateway and Identity  →](lab-03-agentcore-gateway.ipynb)\n",
    "\n",
    "## Resources\n",
    "- [Amazon Bedrock Agent Core Memory](https://docs.aws.amazon.com/bedrock-agentcore/latest/devguide/memory.html)\n",
    "- [Amazon Bedrock AgentCore Memory Deep Dive blog](https://aws.amazon.com/blogs/machine-learning/amazon-bedrock-agentcore-memory-building-context-aware-agents/)\n"
   ]
  }
 ],
 "metadata": {
  "kernelspec": {
   "display_name": "Python 3 (ipykernel)",
   "language": "python",
   "name": "python3"
  },
  "language_info": {
   "codemirror_mode": {
    "name": "ipython",
    "version": 3
   },
   "file_extension": ".py",
   "mimetype": "text/x-python",
   "name": "python",
   "nbconvert_exporter": "python",
   "pygments_lexer": "ipython3",
   "version": "3.12.9"
  }
 },
 "nbformat": 4,
 "nbformat_minor": 4
}
